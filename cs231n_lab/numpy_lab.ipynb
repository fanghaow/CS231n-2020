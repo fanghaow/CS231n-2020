{
 "cells": [
  {
   "cell_type": "code",
   "execution_count": 2,
   "metadata": {},
   "outputs": [
    {
     "data": {
      "text/plain": [
       "10"
      ]
     },
     "execution_count": 2,
     "metadata": {},
     "output_type": "execute_result"
    }
   ],
   "source": [
    "import numpy as np\n",
    "a = np.array([1,2,3,4])\n",
    "sum(a)"
   ]
  },
  {
   "cell_type": "code",
   "execution_count": 9,
   "metadata": {},
   "outputs": [
    {
     "name": "stdout",
     "output_type": "stream",
     "text": [
      "[4 6]\n"
     ]
    },
    {
     "data": {
      "text/plain": [
       "array([ 5, 25])"
      ]
     },
     "execution_count": 9,
     "metadata": {},
     "output_type": "execute_result"
    }
   ],
   "source": [
    "a = np.reshape(a,(2,2))\n",
    "print(sum(a))\n",
    "np.sum(a*a,axis=1)"
   ]
  },
  {
   "cell_type": "code",
   "execution_count": 29,
   "metadata": {},
   "outputs": [
    {
     "name": "stdout",
     "output_type": "stream",
     "text": [
      "(2, 4)\n"
     ]
    },
    {
     "data": {
      "text/plain": [
       "numpy.ndarray"
      ]
     },
     "execution_count": 29,
     "metadata": {},
     "output_type": "execute_result"
    }
   ],
   "source": [
    "np.maximum(a,a)\n",
    "b = np.array([1,1])\n",
    "b.shape\n",
    "c = np.tile(b,(2,2))\n",
    "print(c.shape)\n",
    "type(c)"
   ]
  },
  {
   "cell_type": "code",
   "execution_count": 4,
   "metadata": {},
   "outputs": [
    {
     "name": "stdout",
     "output_type": "stream",
     "text": [
      "[2. 3.]\n"
     ]
    }
   ],
   "source": [
    "print(np.mean(a,axis =0))"
   ]
  },
  {
   "cell_type": "code",
   "execution_count": 5,
   "metadata": {},
   "outputs": [
    {
     "name": "stdout",
     "output_type": "stream",
     "text": [
      "[3 4]\n"
     ]
    }
   ],
   "source": [
    "print(a[1])"
   ]
  },
  {
   "cell_type": "code",
   "execution_count": 6,
   "metadata": {},
   "outputs": [
    {
     "name": "stdout",
     "output_type": "stream",
     "text": [
      "[array([[2., 2.],\n",
      "       [2., 2.]]), array([[1., 1.],\n",
      "       [1., 1.]])]\n"
     ]
    }
   ],
   "source": [
    "da = np.gradient(a)\n",
    "print(da)"
   ]
  },
  {
   "cell_type": "code",
   "execution_count": 14,
   "metadata": {},
   "outputs": [
    {
     "name": "stdout",
     "output_type": "stream",
     "text": [
      "[3. 4. 6. 7.]\n"
     ]
    }
   ],
   "source": [
    "a = np.array([1,2,3,4])\n",
    "y = a**2\n",
    "da = np.gradient(y,edge_order = 1)\n",
    "print(da)"
   ]
  },
  {
   "cell_type": "code",
   "execution_count": 16,
   "metadata": {},
   "outputs": [
    {
     "name": "stdout",
     "output_type": "stream",
     "text": [
      "Help on function gradient in module numpy:\n",
      "\n",
      "gradient(f, *varargs, axis=None, edge_order=1)\n",
      "    Return the gradient of an N-dimensional array.\n",
      "    \n",
      "    The gradient is computed using second order accurate central differences\n",
      "    in the interior points and either first or second order accurate one-sides\n",
      "    (forward or backwards) differences at the boundaries.\n",
      "    The returned gradient hence has the same shape as the input array.\n",
      "    \n",
      "    Parameters\n",
      "    ----------\n",
      "    f : array_like\n",
      "        An N-dimensional array containing samples of a scalar function.\n",
      "    varargs : list of scalar or array, optional\n",
      "        Spacing between f values. Default unitary spacing for all dimensions.\n",
      "        Spacing can be specified using:\n",
      "    \n",
      "        1. single scalar to specify a sample distance for all dimensions.\n",
      "        2. N scalars to specify a constant sample distance for each dimension.\n",
      "           i.e. `dx`, `dy`, `dz`, ...\n",
      "        3. N arrays to specify the coordinates of the values along each\n",
      "           dimension of F. The length of the array must match the size of\n",
      "           the corresponding dimension\n",
      "        4. Any combination of N scalars/arrays with the meaning of 2. and 3.\n",
      "    \n",
      "        If `axis` is given, the number of varargs must equal the number of axes.\n",
      "        Default: 1.\n",
      "    \n",
      "    edge_order : {1, 2}, optional\n",
      "        Gradient is calculated using N-th order accurate differences\n",
      "        at the boundaries. Default: 1.\n",
      "    \n",
      "        .. versionadded:: 1.9.1\n",
      "    \n",
      "    axis : None or int or tuple of ints, optional\n",
      "        Gradient is calculated only along the given axis or axes\n",
      "        The default (axis = None) is to calculate the gradient for all the axes\n",
      "        of the input array. axis may be negative, in which case it counts from\n",
      "        the last to the first axis.\n",
      "    \n",
      "        .. versionadded:: 1.11.0\n",
      "    \n",
      "    Returns\n",
      "    -------\n",
      "    gradient : ndarray or list of ndarray\n",
      "        A set of ndarrays (or a single ndarray if there is only one dimension)\n",
      "        corresponding to the derivatives of f with respect to each dimension.\n",
      "        Each derivative has the same shape as f.\n",
      "    \n",
      "    Examples\n",
      "    --------\n",
      "    >>> f = np.array([1, 2, 4, 7, 11, 16], dtype=float)\n",
      "    >>> np.gradient(f)\n",
      "    array([1. , 1.5, 2.5, 3.5, 4.5, 5. ])\n",
      "    >>> np.gradient(f, 2)\n",
      "    array([0.5 ,  0.75,  1.25,  1.75,  2.25,  2.5 ])\n",
      "    \n",
      "    Spacing can be also specified with an array that represents the coordinates\n",
      "    of the values F along the dimensions.\n",
      "    For instance a uniform spacing:\n",
      "    \n",
      "    >>> x = np.arange(f.size)\n",
      "    >>> np.gradient(f, x)\n",
      "    array([1. ,  1.5,  2.5,  3.5,  4.5,  5. ])\n",
      "    \n",
      "    Or a non uniform one:\n",
      "    \n",
      "    >>> x = np.array([0., 1., 1.5, 3.5, 4., 6.], dtype=float)\n",
      "    >>> np.gradient(f, x)\n",
      "    array([1. ,  3. ,  3.5,  6.7,  6.9,  2.5])\n",
      "    \n",
      "    For two dimensional arrays, the return will be two arrays ordered by\n",
      "    axis. In this example the first array stands for the gradient in\n",
      "    rows and the second one in columns direction:\n",
      "    \n",
      "    >>> np.gradient(np.array([[1, 2, 6], [3, 4, 5]], dtype=float))\n",
      "    [array([[ 2.,  2., -1.],\n",
      "           [ 2.,  2., -1.]]), array([[1. , 2.5, 4. ],\n",
      "           [1. , 1. , 1. ]])]\n",
      "    \n",
      "    In this example the spacing is also specified:\n",
      "    uniform for axis=0 and non uniform for axis=1\n",
      "    \n",
      "    >>> dx = 2.\n",
      "    >>> y = [1., 1.5, 3.5]\n",
      "    >>> np.gradient(np.array([[1, 2, 6], [3, 4, 5]], dtype=float), dx, y)\n",
      "    [array([[ 1. ,  1. , -0.5],\n",
      "           [ 1. ,  1. , -0.5]]), array([[2. , 2. , 2. ],\n",
      "           [2. , 1.7, 0.5]])]\n",
      "    \n",
      "    It is possible to specify how boundaries are treated using `edge_order`\n",
      "    \n",
      "    >>> x = np.array([0, 1, 2, 3, 4])\n",
      "    >>> f = x**2\n",
      "    >>> np.gradient(f, edge_order=1)\n",
      "    array([1.,  2.,  4.,  6.,  7.])\n",
      "    >>> np.gradient(f, edge_order=2)\n",
      "    array([0., 2., 4., 6., 8.])\n",
      "    \n",
      "    The `axis` keyword can be used to specify a subset of axes of which the\n",
      "    gradient is calculated\n",
      "    \n",
      "    >>> np.gradient(np.array([[1, 2, 6], [3, 4, 5]], dtype=float), axis=0)\n",
      "    array([[ 2.,  2., -1.],\n",
      "           [ 2.,  2., -1.]])\n",
      "    \n",
      "    Notes\n",
      "    -----\n",
      "    Assuming that :math:`f\\in C^{3}` (i.e., :math:`f` has at least 3 continuous\n",
      "    derivatives) and let :math:`h_{*}` be a non-homogeneous stepsize, we\n",
      "    minimize the \"consistency error\" :math:`\\eta_{i}` between the true gradient\n",
      "    and its estimate from a linear combination of the neighboring grid-points:\n",
      "    \n",
      "    .. math::\n",
      "    \n",
      "        \\eta_{i} = f_{i}^{\\left(1\\right)} -\n",
      "                    \\left[ \\alpha f\\left(x_{i}\\right) +\n",
      "                            \\beta f\\left(x_{i} + h_{d}\\right) +\n",
      "                            \\gamma f\\left(x_{i}-h_{s}\\right)\n",
      "                    \\right]\n",
      "    \n",
      "    By substituting :math:`f(x_{i} + h_{d})` and :math:`f(x_{i} - h_{s})`\n",
      "    with their Taylor series expansion, this translates into solving\n",
      "    the following the linear system:\n",
      "    \n",
      "    .. math::\n",
      "    \n",
      "        \\left\\{\n",
      "            \\begin{array}{r}\n",
      "                \\alpha+\\beta+\\gamma=0 \\\\\n",
      "                \\beta h_{d}-\\gamma h_{s}=1 \\\\\n",
      "                \\beta h_{d}^{2}+\\gamma h_{s}^{2}=0\n",
      "            \\end{array}\n",
      "        \\right.\n",
      "    \n",
      "    The resulting approximation of :math:`f_{i}^{(1)}` is the following:\n",
      "    \n",
      "    .. math::\n",
      "    \n",
      "        \\hat f_{i}^{(1)} =\n",
      "            \\frac{\n",
      "                h_{s}^{2}f\\left(x_{i} + h_{d}\\right)\n",
      "                + \\left(h_{d}^{2} - h_{s}^{2}\\right)f\\left(x_{i}\\right)\n",
      "                - h_{d}^{2}f\\left(x_{i}-h_{s}\\right)}\n",
      "                { h_{s}h_{d}\\left(h_{d} + h_{s}\\right)}\n",
      "            + \\mathcal{O}\\left(\\frac{h_{d}h_{s}^{2}\n",
      "                                + h_{s}h_{d}^{2}}{h_{d}\n",
      "                                + h_{s}}\\right)\n",
      "    \n",
      "    It is worth noting that if :math:`h_{s}=h_{d}`\n",
      "    (i.e., data are evenly spaced)\n",
      "    we find the standard second order approximation:\n",
      "    \n",
      "    .. math::\n",
      "    \n",
      "        \\hat f_{i}^{(1)}=\n",
      "            \\frac{f\\left(x_{i+1}\\right) - f\\left(x_{i-1}\\right)}{2h}\n",
      "            + \\mathcal{O}\\left(h^{2}\\right)\n",
      "    \n",
      "    With a similar procedure the forward/backward approximations used for\n",
      "    boundaries can be derived.\n",
      "    \n",
      "    References\n",
      "    ----------\n",
      "    .. [1]  Quarteroni A., Sacco R., Saleri F. (2007) Numerical Mathematics\n",
      "            (Texts in Applied Mathematics). New York: Springer.\n",
      "    .. [2]  Durran D. R. (1999) Numerical Methods for Wave Equations\n",
      "            in Geophysical Fluid Dynamics. New York: Springer.\n",
      "    .. [3]  Fornberg B. (1988) Generation of Finite Difference Formulas on\n",
      "            Arbitrarily Spaced Grids,\n",
      "            Mathematics of Computation 51, no. 184 : 699-706.\n",
      "            `PDF <http://www.ams.org/journals/mcom/1988-51-184/\n",
      "            S0025-5718-1988-0935077-0/S0025-5718-1988-0935077-0.pdf>`_.\n",
      "\n"
     ]
    }
   ],
   "source": [
    "help(np.gradient)"
   ]
  },
  {
   "cell_type": "code",
   "execution_count": 30,
   "metadata": {},
   "outputs": [],
   "source": [
    "a = np.array([[1,2],[3,4]])"
   ]
  },
  {
   "cell_type": "code",
   "execution_count": 31,
   "metadata": {},
   "outputs": [
    {
     "data": {
      "text/plain": [
       "array([[1, 2],\n",
       "       [3, 4]])"
      ]
     },
     "execution_count": 31,
     "metadata": {},
     "output_type": "execute_result"
    }
   ],
   "source": [
    "a"
   ]
  },
  {
   "cell_type": "code",
   "execution_count": 32,
   "metadata": {},
   "outputs": [
    {
     "data": {
      "text/plain": [
       "4"
      ]
     },
     "execution_count": 32,
     "metadata": {},
     "output_type": "execute_result"
    }
   ],
   "source": [
    "a[1,1]"
   ]
  },
  {
   "cell_type": "code",
   "execution_count": 36,
   "metadata": {},
   "outputs": [
    {
     "data": {
      "text/plain": [
       "array([4, 3])"
      ]
     },
     "execution_count": 36,
     "metadata": {},
     "output_type": "execute_result"
    }
   ],
   "source": [
    "a[[1,1],[1,0]]"
   ]
  },
  {
   "cell_type": "code",
   "execution_count": 38,
   "metadata": {},
   "outputs": [
    {
     "data": {
      "text/plain": [
       "array([0, 1, 2])"
      ]
     },
     "execution_count": 38,
     "metadata": {},
     "output_type": "execute_result"
    }
   ],
   "source": [
    "np.arange(3)"
   ]
  },
  {
   "cell_type": "code",
   "execution_count": 39,
   "metadata": {},
   "outputs": [
    {
     "data": {
      "text/plain": [
       "array([[2, 3],\n",
       "       [4, 5]])"
      ]
     },
     "execution_count": 39,
     "metadata": {},
     "output_type": "execute_result"
    }
   ],
   "source": [
    "a+1"
   ]
  },
  {
   "cell_type": "code",
   "execution_count": 41,
   "metadata": {},
   "outputs": [
    {
     "data": {
      "text/plain": [
       "array([[2, 3],\n",
       "       [4, 5]])"
      ]
     },
     "execution_count": 41,
     "metadata": {},
     "output_type": "execute_result"
    }
   ],
   "source": [
    "np.maximum(a+1,0)"
   ]
  },
  {
   "cell_type": "code",
   "execution_count": 44,
   "metadata": {},
   "outputs": [
    {
     "name": "stdout",
     "output_type": "stream",
     "text": [
      "[[1 2]\n",
      " [3 4]]\n"
     ]
    },
    {
     "data": {
      "text/plain": [
       "array([3, 7])"
      ]
     },
     "execution_count": 44,
     "metadata": {},
     "output_type": "execute_result"
    }
   ],
   "source": [
    "print(a)\n",
    "a.sum(1)"
   ]
  },
  {
   "cell_type": "code",
   "execution_count": 47,
   "metadata": {},
   "outputs": [
    {
     "ename": "ModuleNotFoundError",
     "evalue": "No module named 'randan'",
     "output_type": "error",
     "traceback": [
      "\u001b[0;31m---------------------------------------------------------------------------\u001b[0m",
      "\u001b[0;31mModuleNotFoundError\u001b[0m                       Traceback (most recent call last)",
      "\u001b[0;32m<ipython-input-47-370fbecfda18>\u001b[0m in \u001b[0;36m<module>\u001b[0;34m\u001b[0m\n\u001b[0;32m----> 1\u001b[0;31m \u001b[0;32mimport\u001b[0m \u001b[0mrandan\u001b[0m\u001b[0;34m\u001b[0m\u001b[0;34m\u001b[0m\u001b[0m\n\u001b[0m",
      "\u001b[0;31mModuleNotFoundError\u001b[0m: No module named 'randan'"
     ]
    }
   ],
   "source": [
    "import randan"
   ]
  },
  {
   "cell_type": "code",
   "execution_count": 49,
   "metadata": {},
   "outputs": [
    {
     "name": "stdout",
     "output_type": "stream",
     "text": [
      "Help on built-in function randn:\n",
      "\n",
      "randn(...) method of numpy.random.mtrand.RandomState instance\n",
      "    randn(d0, d1, ..., dn)\n",
      "    \n",
      "    Return a sample (or samples) from the \"standard normal\" distribution.\n",
      "    \n",
      "    .. note::\n",
      "        This is a convenience function for users porting code from Matlab,\n",
      "        and wraps `standard_normal`. That function takes a\n",
      "        tuple to specify the size of the output, which is consistent with\n",
      "        other NumPy functions like `numpy.zeros` and `numpy.ones`.\n",
      "    \n",
      "    .. note::\n",
      "        New code should use the ``standard_normal`` method of a ``default_rng()``\n",
      "        instance instead; please see the :ref:`random-quick-start`.\n",
      "    \n",
      "    If positive int_like arguments are provided, `randn` generates an array\n",
      "    of shape ``(d0, d1, ..., dn)``, filled\n",
      "    with random floats sampled from a univariate \"normal\" (Gaussian)\n",
      "    distribution of mean 0 and variance 1. A single float randomly sampled\n",
      "    from the distribution is returned if no argument is provided.\n",
      "    \n",
      "    Parameters\n",
      "    ----------\n",
      "    d0, d1, ..., dn : int, optional\n",
      "        The dimensions of the returned array, must be non-negative.\n",
      "        If no argument is given a single Python float is returned.\n",
      "    \n",
      "    Returns\n",
      "    -------\n",
      "    Z : ndarray or float\n",
      "        A ``(d0, d1, ..., dn)``-shaped array of floating-point samples from\n",
      "        the standard normal distribution, or a single such float if\n",
      "        no parameters were supplied.\n",
      "    \n",
      "    See Also\n",
      "    --------\n",
      "    standard_normal : Similar, but takes a tuple as its argument.\n",
      "    normal : Also accepts mu and sigma arguments.\n",
      "    Generator.standard_normal: which should be used for new code.\n",
      "    \n",
      "    Notes\n",
      "    -----\n",
      "    For random samples from :math:`N(\\mu, \\sigma^2)`, use:\n",
      "    \n",
      "    ``sigma * np.random.randn(...) + mu``\n",
      "    \n",
      "    Examples\n",
      "    --------\n",
      "    >>> np.random.randn()\n",
      "    2.1923875335537315  # random\n",
      "    \n",
      "    Two-by-four array of samples from N(3, 6.25):\n",
      "    \n",
      "    >>> 3 + 2.5 * np.random.randn(2, 4)\n",
      "    array([[-4.49401501,  4.00950034, -1.81814867,  7.29718677],   # random\n",
      "           [ 0.39924804,  4.68456316,  4.99394529,  4.84057254]])  # random\n",
      "\n"
     ]
    }
   ],
   "source": [
    "help(np.random.randn)"
   ]
  },
  {
   "cell_type": "code",
   "execution_count": 54,
   "metadata": {},
   "outputs": [
    {
     "name": "stdout",
     "output_type": "stream",
     "text": [
      "[0 3 4]\n"
     ]
    }
   ],
   "source": [
    "index = np.sort(np.random.choice(5,3,False))\n",
    "print(index)"
   ]
  },
  {
   "cell_type": "code",
   "execution_count": 56,
   "metadata": {},
   "outputs": [
    {
     "name": "stdout",
     "output_type": "stream",
     "text": [
      "[3 4]\n"
     ]
    }
   ],
   "source": [
    "a\n",
    "print(a[1])"
   ]
  },
  {
   "cell_type": "code",
   "execution_count": 64,
   "metadata": {},
   "outputs": [
    {
     "data": {
      "text/plain": [
       "array([2, 4])"
      ]
     },
     "execution_count": 64,
     "metadata": {},
     "output_type": "execute_result"
    }
   ],
   "source": [
    "np.max(a,1)"
   ]
  },
  {
   "cell_type": "code",
   "execution_count": 70,
   "metadata": {},
   "outputs": [
    {
     "name": "stdout",
     "output_type": "stream",
     "text": [
      "{'a': 3}\n"
     ]
    }
   ],
   "source": [
    "dict = {}\n",
    "dict['a'] = 3\n",
    "print(dict)"
   ]
  },
  {
   "cell_type": "code",
   "execution_count": 71,
   "metadata": {},
   "outputs": [
    {
     "data": {
      "text/plain": [
       "range(0, 2)"
      ]
     },
     "execution_count": 71,
     "metadata": {},
     "output_type": "execute_result"
    }
   ],
   "source": [
    "range(2)"
   ]
  },
  {
   "cell_type": "code",
   "execution_count": 72,
   "metadata": {},
   "outputs": [
    {
     "name": "stdout",
     "output_type": "stream",
     "text": [
      "0\n",
      "1\n"
     ]
    }
   ],
   "source": [
    "for i in range(2):\n",
    "    print(i)"
   ]
  },
  {
   "cell_type": "code",
   "execution_count": 3,
   "metadata": {},
   "outputs": [
    {
     "name": "stdout",
     "output_type": "stream",
     "text": [
      "[  2.71828183  20.08553692  54.59815003 148.4131591 ]\n"
     ]
    }
   ],
   "source": [
    "import numpy as np\n",
    "a = [1,3,4,5]\n",
    "b = np.exp(a)\n",
    "print(b)"
   ]
  },
  {
   "cell_type": "code",
   "execution_count": 5,
   "metadata": {},
   "outputs": [
    {
     "data": {
      "text/plain": [
       "array([0, 1])"
      ]
     },
     "execution_count": 5,
     "metadata": {},
     "output_type": "execute_result"
    }
   ],
   "source": [
    "np.arange(2)"
   ]
  },
  {
   "cell_type": "code",
   "execution_count": 7,
   "metadata": {},
   "outputs": [],
   "source": [
    "b = np.reshape(a,(2,2))"
   ]
  },
  {
   "cell_type": "code",
   "execution_count": 10,
   "metadata": {},
   "outputs": [
    {
     "name": "stdout",
     "output_type": "stream",
     "text": [
      "[[1 3]\n",
      " [4 5]]\n",
      "[4 9]\n"
     ]
    }
   ],
   "source": [
    "print(b)\n",
    "print(np.sum(b,axis=1))"
   ]
  },
  {
   "cell_type": "code",
   "execution_count": 13,
   "metadata": {},
   "outputs": [
    {
     "name": "stdout",
     "output_type": "stream",
     "text": [
      "None\n"
     ]
    },
    {
     "data": {
      "text/plain": [
       "NoneType"
      ]
     },
     "execution_count": 13,
     "metadata": {},
     "output_type": "execute_result"
    }
   ],
   "source": [
    "print(np.newaxis)\n",
    "type(np.newaxis)"
   ]
  },
  {
   "cell_type": "code",
   "execution_count": 17,
   "metadata": {},
   "outputs": [
    {
     "name": "stdout",
     "output_type": "stream",
     "text": [
      "[[1 2 3]\n",
      " [1 2 3]\n",
      " [1 2 3]]\n",
      "[[2 4 6]\n",
      " [2 4 6]\n",
      " [2 4 6]]\n"
     ]
    }
   ],
   "source": [
    "import numpy as np\n",
    "a = np.array([1,2,3])\n",
    "b = np.tile(a.T,(3,1))\n",
    "print(b)\n",
    "print(b+a)"
   ]
  },
  {
   "cell_type": "code",
   "execution_count": null,
   "metadata": {},
   "outputs": [],
   "source": []
  }
 ],
 "metadata": {
  "kernelspec": {
   "display_name": "Python 3",
   "language": "python",
   "name": "python3"
  },
  "language_info": {
   "codemirror_mode": {
    "name": "ipython",
    "version": 3
   },
   "file_extension": ".py",
   "mimetype": "text/x-python",
   "name": "python",
   "nbconvert_exporter": "python",
   "pygments_lexer": "ipython3",
   "version": "3.8.5"
  }
 },
 "nbformat": 4,
 "nbformat_minor": 4
}
